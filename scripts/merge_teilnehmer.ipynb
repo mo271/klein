{
 "cells": [
  {
   "cell_type": "code",
   "execution_count": 93,
   "id": "3bcb8a5d",
   "metadata": {},
   "outputs": [],
   "source": [
    "import json\n",
    "import random\n",
    "import string\n",
    "import collections\n",
    "teil_path = \"../js/data/teilnehmer.json\"\n",
    "prot_path = \"../js/data/protokolle.json\""
   ]
  },
  {
   "cell_type": "code",
   "execution_count": 101,
   "id": "a4cea35e",
   "metadata": {},
   "outputs": [],
   "source": [
    "def read_json_file(file_path):\n",
    "    try:\n",
    "        with open(file_path, 'r', encoding='utf-8') as f:\n",
    "            data = json.load(f, object_pairs_hook=collections.OrderedDict)\n",
    "            return data\n",
    "    except FileNotFoundError:\n",
    "        print(\"The file could not be found.\")\n",
    "        return None\n",
    "    except json.JSONDecodeError:\n",
    "        print(\"Error decoding JSON.\")\n",
    "        return None"
   ]
  },
  {
   "cell_type": "code",
   "execution_count": 102,
   "id": "fc2296bf",
   "metadata": {},
   "outputs": [],
   "source": [
    "keep = 938\n",
    "delete = 752"
   ]
  },
  {
   "cell_type": "code",
   "execution_count": 104,
   "id": "5756d0a2",
   "metadata": {},
   "outputs": [],
   "source": [
    "teil_data = read_json_file(teil_path)\n",
    "prot_data = read_json_file(prot_path)"
   ]
  },
  {
   "cell_type": "code",
   "execution_count": 67,
   "id": "f6430d61",
   "metadata": {},
   "outputs": [
    {
     "name": "stdout",
     "output_type": "stream",
     "text": [
      "deleting Theo Zorn?\n",
      "with first: Theo and last: Zorn?\n",
      "merging to  Theo Zorn.\n",
      "with first: Theo and last: Zorn.\n",
      "changing 186 to 938 in protocol nr 1191\n"
     ]
    }
   ],
   "source": [
    "teil_data = read_json_file(teil_path)\n",
    "prot_data = read_json_file(prot_path)\n",
    "new_teil_data = collections.OrderedDict()\n",
    "num_deleted_talks = 0\n",
    "for key in teil_data:\n",
    "    if key == str(delete):\n",
    "        continue\n",
    "    if key == str(keep):\n",
    "        old_teilnehmer = teil_data[str(delete)]\n",
    "        keep_teilnehmer = teil_data[key]\n",
    "        new_teil_data[key] = keep_teilnehmer\n",
    "        print(f\"deleting {old_teilnehmer['name']}\")\n",
    "        print(f\"with first: {old_teilnehmer['first']} and last: {old_teilnehmer['last']}\")\n",
    "        print(f\"merging to  {keep_teilnehmer['name']}\")\n",
    "        print(f\"with first: {keep_teilnehmer['first']} and last: {keep_teilnehmer['last']}\")\n",
    "        old_talks = old_teilnehmer[\"ids_to_signatures\"]\n",
    "        num_deleted_talks = len(old_talks)\n",
    "        new_teil_data[key][\"ids_to_signatures\"].update(old_talks)\n",
    "    else:\n",
    "        new_teil_data[key] = teil_data[key]\n",
    "\n",
    "\n",
    "        \n",
    "#also adapt protokolle.json!\n",
    "new_prot_data = []\n",
    "for key in prot_data:\n",
    "    for teil_id in key['speaker']:\n",
    "        if delete == teil_id:\n",
    "            print(f\"changing {delete} to {keep} in protocol nr {key['id']}\")\n",
    "    new_speaker = [keep if delete == teil_id else t_id for t_id in key['speaker']]\n",
    "    key['speaker'] = new_speaker\n",
    "    new_prot_data.append(key)"
   ]
  },
  {
   "cell_type": "code",
   "execution_count": 68,
   "id": "744007cd",
   "metadata": {},
   "outputs": [],
   "source": [
    "with open('../js/data/teilnehmer.json', 'w', encoding='utf-8') as f:\n",
    "    json.dump(new_teil_data, f, indent=2, ensure_ascii=False)\n",
    "    f.write(\"\\n\")\n",
    "with open('../js/data/protokolle.json', 'w', encoding='utf-8') as f:\n",
    "    json.dump(new_prot_data, f, indent=2, ensure_ascii=False)\n",
    "    f.write(\"\\n\")"
   ]
  },
  {
   "cell_type": "code",
   "execution_count": 14,
   "id": "08c9ea29",
   "metadata": {},
   "outputs": [],
   "source": []
  },
  {
   "cell_type": "code",
   "execution_count": null,
   "id": "c0f42bb4",
   "metadata": {},
   "outputs": [],
   "source": []
  }
 ],
 "metadata": {
  "kernelspec": {
   "display_name": "venv",
   "language": "python",
   "name": "venv"
  },
  "language_info": {
   "codemirror_mode": {
    "name": "ipython",
    "version": 3
   },
   "file_extension": ".py",
   "mimetype": "text/x-python",
   "name": "python",
   "nbconvert_exporter": "python",
   "pygments_lexer": "ipython3",
   "version": "3.11.5"
  }
 },
 "nbformat": 4,
 "nbformat_minor": 5
}

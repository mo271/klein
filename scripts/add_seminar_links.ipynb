{
 "cells": [
  {
   "cell_type": "code",
   "execution_count": 55,
   "id": "3bcb8a5d",
   "metadata": {},
   "outputs": [],
   "source": [
    "import json\n",
    "import random\n",
    "import string\n",
    "import collections\n",
    "teil_path = \"../js/data/teilnehmer.json\"\n",
    "prot_path = \"../js/data/protokolle.json\""
   ]
  },
  {
   "cell_type": "code",
   "execution_count": 56,
   "id": "a4cea35e",
   "metadata": {},
   "outputs": [],
   "source": [
    "def read_json_file(file_path):\n",
    "    try:\n",
    "        with open(file_path, 'r', encoding='utf-8') as f:\n",
    "            data = json.load(f, object_pairs_hook=collections.OrderedDict)\n",
    "            return data\n",
    "    except FileNotFoundError:\n",
    "        print(\"The file could not be found.\")\n",
    "        return None\n",
    "    except json.JSONDecodeError:\n",
    "        print(\"Error decoding JSON.\")\n",
    "        return None"
   ]
  },
  {
   "cell_type": "code",
   "execution_count": null,
   "id": "309b8cae",
   "metadata": {},
   "outputs": [],
   "source": []
  },
  {
   "cell_type": "code",
   "execution_count": 57,
   "id": "fc2296bf",
   "metadata": {},
   "outputs": [],
   "source": [
    "def get_sn(prot_data, prot_id):\n",
    "    proto=  prot_data[int(prot_id)-1]\n",
    "    assert prot_id != (proto[\"id\"])\n",
    "    return proto[\"sn\"]\n",
    "\n",
    "def get_sns(prot_data, prot_ids):\n",
    "    return sorted(list(set(list(map(lambda x: get_sn(prot_data, x), prot_ids)))))"
   ]
  },
  {
   "cell_type": "code",
   "execution_count": null,
   "id": "c0a08db7",
   "metadata": {},
   "outputs": [],
   "source": []
  },
  {
   "cell_type": "code",
   "execution_count": 58,
   "id": "f6430d61",
   "metadata": {},
   "outputs": [],
   "source": [
    "teil_data = read_json_file(teil_path)\n",
    "prot_data = read_json_file(prot_path)\n",
    "new_teil_data = collections.OrderedDict()\n",
    "num_deleted_talks = 0\n",
    "for key in teil_data.keys():\n",
    "        new_teil_data[key] = teil_data[key]\n",
    "        teilnehmer = new_teil_data[key]\n",
    "        sns = get_sns(prot_data, list(teilnehmer[\"ids_to_signatures\"].keys()))\n",
    "        teilnehmer[\"sns\"] = sns\n",
    "        "
   ]
  },
  {
   "cell_type": "code",
   "execution_count": 59,
   "id": "744007cd",
   "metadata": {},
   "outputs": [],
   "source": [
    "with open('../js/data/teilnehmer.json', 'w', encoding='utf-8') as f:\n",
    "    json.dump(new_teil_data, f, indent=2, ensure_ascii=False)\n",
    "    f.write(\"\\n\")"
   ]
  },
  {
   "cell_type": "code",
   "execution_count": null,
   "id": "08c9ea29",
   "metadata": {},
   "outputs": [],
   "source": []
  },
  {
   "cell_type": "code",
   "execution_count": null,
   "id": "c0f42bb4",
   "metadata": {},
   "outputs": [],
   "source": []
  }
 ],
 "metadata": {
  "kernelspec": {
   "display_name": "venv",
   "language": "python",
   "name": "venv"
  },
  "language_info": {
   "codemirror_mode": {
    "name": "ipython",
    "version": 3
   },
   "file_extension": ".py",
   "mimetype": "text/x-python",
   "name": "python",
   "nbconvert_exporter": "python",
   "pygments_lexer": "ipython3",
   "version": "3.11.7"
  }
 },
 "nbformat": 4,
 "nbformat_minor": 5
}
